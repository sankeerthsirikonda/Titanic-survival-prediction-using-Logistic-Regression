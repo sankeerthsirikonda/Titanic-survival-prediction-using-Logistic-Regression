{
 "cells": [
  {
   "cell_type": "markdown",
   "metadata": {},
   "source": [
    "___\n",
    "\n",
    "<a href='http://www.pieriandata.com'> <img src='../Pierian_Data_Logo.png' /></a>\n",
    "___\n",
    "# Logistic Regression with Python\n",
    "\n",
    
    "We'll be trying to predict a classification- survival or deceased.\n",
    "Let's begin our understanding of implementing Logistic Regression in Python for classification.\n",
    "\n",
    "We'll use a \"semi-cleaned\" version of the titanic data set, if you use the data set hosted directly on Kaggle, you may need to do some additional cleaning not shown in this lecture notebook.\n",
    "\n",
    "## Import Libraries\n",
    "Let's import some libraries to get started!"
   ]
  },
  {
   "cell_type": "code",
   "execution_count": 3,
   "metadata": {},
   "outputs": [],
   "source": [
    "import pandas as pd\n",
    "import numpy as np\n",
    "import matplotlib.pyplot as plt\n",
    "import seaborn as sns\n",
    "%matplotlib inline"
   ]
  },
  {
   "cell_type": "markdown",
   "metadata": {},
   "source": [
    "## The Data\n",
    "\n",
    "Let's start by reading in the titanic_train.csv file into a pandas dataframe."
   ]
  },
  {
   "cell_type": "code",
   "execution_count": 4,
   "metadata": {},
   "outputs": [],
   "source": [
    "train = pd.read_csv('Titanic.csv')"
   ]
  },
  {
   "cell_type": "code",
   "execution_count": 8,
   "metadata": {},
   "outputs": [
    {
     "data": {
      "text/html": [
       "<div>\n",
       "<style scoped>\n",
       "    .dataframe tbody tr th:only-of-type {\n",
       "        vertical-align: middle;\n",
       "    }\n",
       "\n",
       "    .dataframe tbody tr th {\n",
       "        vertical-align: top;\n",
       "    }\n",
       "\n",
       "    .dataframe thead th {\n",
       "        text-align: right;\n",
       "    }\n",
       "</style>\n",
       "<table border=\"1\" class=\"dataframe\">\n",
       "  <thead>\n",
       "    <tr style=\"text-align: right;\">\n",
       "      <th></th>\n",
       "      <th>PassengerId</th>\n",
       "      <th>Survived</th>\n",
       "      <th>Pclass</th>\n",
       "      <th>Name</th>\n",
       "      <th>Sex</th>\n",
       "      <th>Age</th>\n",
       "      <th>SibSp</th>\n",
       "      <th>Parch</th>\n",
       "      <th>Ticket</th>\n",
       "      <th>Fare</th>\n",
       "      <th>Cabin</th>\n",
       "      <th>Embarked</th>\n",
       "    </tr>\n",
       "  </thead>\n",
       "  <tbody>\n",
       "    <tr>\n",
       "      <th>318</th>\n",
       "      <td>1210</td>\n",
       "      <td>0</td>\n",
       "      <td>3</td>\n",
       "      <td>Jonsson, Mr. Nils Hilding</td>\n",
       "      <td>male</td>\n",
       "      <td>27.0</td>\n",
       "      <td>0</td>\n",
       "      <td>0</td>\n",
       "      <td>350408</td>\n",
       "      <td>7.8542</td>\n",
       "      <td>NaN</td>\n",
       "      <td>S</td>\n",
       "    </tr>\n",
       "    <tr>\n",
       "      <th>319</th>\n",
       "      <td>1211</td>\n",
       "      <td>0</td>\n",
       "      <td>2</td>\n",
       "      <td>Jefferys, Mr. Ernest Wilfred</td>\n",
       "      <td>male</td>\n",
       "      <td>22.0</td>\n",
       "      <td>2</td>\n",
       "      <td>0</td>\n",
       "      <td>C.A. 31029</td>\n",
       "      <td>31.5000</td>\n",
       "      <td>NaN</td>\n",
       "      <td>S</td>\n",
       "    </tr>\n",
       "    <tr>\n",
       "      <th>320</th>\n",
       "      <td>1212</td>\n",
       "      <td>0</td>\n",
       "      <td>3</td>\n",
       "      <td>Andersson, Mr. Johan Samuel</td>\n",
       "      <td>male</td>\n",
       "      <td>26.0</td>\n",
       "      <td>0</td>\n",
       "      <td>0</td>\n",
       "      <td>347075</td>\n",
       "      <td>7.7750</td>\n",
       "      <td>NaN</td>\n",
       "      <td>S</td>\n",
       "    </tr>\n",
       "    <tr>\n",
       "      <th>321</th>\n",
       "      <td>1213</td>\n",
       "      <td>0</td>\n",
       "      <td>3</td>\n",
       "      <td>Krekorian, Mr. Neshan</td>\n",
       "      <td>male</td>\n",
       "      <td>25.0</td>\n",
       "      <td>0</td>\n",
       "      <td>0</td>\n",
       "      <td>2654</td>\n",
       "      <td>7.2292</td>\n",
       "      <td>F E57</td>\n",
       "      <td>C</td>\n",
       "    </tr>\n",
       "    <tr>\n",
       "      <th>322</th>\n",
       "      <td>1214</td>\n",
       "      <td>0</td>\n",
       "      <td>2</td>\n",
       "      <td>Nesson, Mr. Israel</td>\n",
       "      <td>male</td>\n",
       "      <td>26.0</td>\n",
       "      <td>0</td>\n",
       "      <td>0</td>\n",
       "      <td>244368</td>\n",
       "      <td>13.0000</td>\n",
       "      <td>F2</td>\n",
       "      <td>S</td>\n",
       "    </tr>\n",
       "    <tr>\n",
       "      <th>...</th>\n",
       "      <td>...</td>\n",
       "      <td>...</td>\n",
       "      <td>...</td>\n",
       "      <td>...</td>\n",
       "      <td>...</td>\n",
       "      <td>...</td>\n",
       "      <td>...</td>\n",
       "      <td>...</td>\n",
       "      <td>...</td>\n",
       "      <td>...</td>\n",
       "      <td>...</td>\n",
       "      <td>...</td>\n",
       "    </tr>\n",
       "    <tr>\n",
       "      <th>413</th>\n",
       "      <td>1305</td>\n",
       "      <td>0</td>\n",
       "      <td>3</td>\n",
       "      <td>Spector, Mr. Woolf</td>\n",
       "      <td>male</td>\n",
       "      <td>NaN</td>\n",
       "      <td>0</td>\n",
       "      <td>0</td>\n",
       "      <td>A.5. 3236</td>\n",
       "      <td>8.0500</td>\n",
       "      <td>NaN</td>\n",
       "      <td>S</td>\n",
       "    </tr>\n",
       "    <tr>\n",
       "      <th>414</th>\n",
       "      <td>1306</td>\n",
       "      <td>1</td>\n",
       "      <td>1</td>\n",
       "      <td>Oliva y Ocana, Dona. Fermina</td>\n",
       "      <td>female</td>\n",
       "      <td>39.0</td>\n",
       "      <td>0</td>\n",
       "      <td>0</td>\n",
       "      <td>PC 17758</td>\n",
       "      <td>108.9000</td>\n",
       "      <td>C105</td>\n",
       "      <td>C</td>\n",
       "    </tr>\n",
       "    <tr>\n",
       "      <th>415</th>\n",
       "      <td>1307</td>\n",
       "      <td>0</td>\n",
       "      <td>3</td>\n",
       "      <td>Saether, Mr. Simon Sivertsen</td>\n",
       "      <td>male</td>\n",
       "      <td>38.5</td>\n",
       "      <td>0</td>\n",
       "      <td>0</td>\n",
       "      <td>SOTON/O.Q. 3101262</td>\n",
       "      <td>7.2500</td>\n",
       "      <td>NaN</td>\n",
       "      <td>S</td>\n",
       "    </tr>\n",
       "    <tr>\n",
       "      <th>416</th>\n",
       "      <td>1308</td>\n",
       "      <td>0</td>\n",
       "      <td>3</td>\n",
       "      <td>Ware, Mr. Frederick</td>\n",
       "      <td>male</td>\n",
       "      <td>NaN</td>\n",
       "      <td>0</td>\n",
       "      <td>0</td>\n",
       "      <td>359309</td>\n",
       "      <td>8.0500</td>\n",
       "      <td>NaN</td>\n",
       "      <td>S</td>\n",
       "    </tr>\n",
       "    <tr>\n",
       "      <th>417</th>\n",
       "      <td>1309</td>\n",
       "      <td>0</td>\n",
       "      <td>3</td>\n",
       "      <td>Peter, Master. Michael J</td>\n",
       "      <td>male</td>\n",
       "      <td>NaN</td>\n",
       "      <td>1</td>\n",
       "      <td>1</td>\n",
       "      <td>2668</td>\n",
       "      <td>22.3583</td>\n",
       "      <td>NaN</td>\n",
       "      <td>C</td>\n",
       "    </tr>\n",
       "  </tbody>\n",
       "</table>\n",
       "<p>100 rows × 12 columns</p>\n",
       "</div>"
      ],
      "text/plain": [
       "     PassengerId  Survived  Pclass                          Name     Sex  \\\n",
       "318         1210         0       3     Jonsson, Mr. Nils Hilding    male   \n",
       "319         1211         0       2  Jefferys, Mr. Ernest Wilfred    male   \n",
       "320         1212         0       3   Andersson, Mr. Johan Samuel    male   \n",
       "321         1213         0       3         Krekorian, Mr. Neshan    male   \n",
       "322         1214         0       2            Nesson, Mr. Israel    male   \n",
       "..           ...       ...     ...                           ...     ...   \n",
       "413         1305         0       3            Spector, Mr. Woolf    male   \n",
       "414         1306         1       1  Oliva y Ocana, Dona. Fermina  female   \n",
       "415         1307         0       3  Saether, Mr. Simon Sivertsen    male   \n",
       "416         1308         0       3           Ware, Mr. Frederick    male   \n",
       "417         1309         0       3      Peter, Master. Michael J    male   \n",
       "\n",
       "      Age  SibSp  Parch              Ticket      Fare  Cabin Embarked  \n",
       "318  27.0      0      0              350408    7.8542    NaN        S  \n",
       "319  22.0      2      0          C.A. 31029   31.5000    NaN        S  \n",
       "320  26.0      0      0              347075    7.7750    NaN        S  \n",
       "321  25.0      0      0                2654    7.2292  F E57        C  \n",
       "322  26.0      0      0              244368   13.0000     F2        S  \n",
       "..    ...    ...    ...                 ...       ...    ...      ...  \n",
       "413   NaN      0      0           A.5. 3236    8.0500    NaN        S  \n",
       "414  39.0      0      0            PC 17758  108.9000   C105        C  \n",
       "415  38.5      0      0  SOTON/O.Q. 3101262    7.2500    NaN        S  \n",
       "416   NaN      0      0              359309    8.0500    NaN        S  \n",
       "417   NaN      1      1                2668   22.3583    NaN        C  \n",
       "\n",
       "[100 rows x 12 columns]"
      ]
     },
     "execution_count": 8,
     "metadata": {},
     "output_type": "execute_result"
    }
   ],
   "source": [
    "train.tail(100)"
   ]
  },
  {
   "cell_type": "markdown",
   "metadata": {},
   "source": [
    "# Exploratory Data Analysis\n",
    "\n",
    "Let's begin some exploratory data analysis! We'll start by checking out missing data!\n",
    "\n",
    "## Missing Data\n",
    "\n",
    "We can use seaborn to create a simple heatmap to see where we are missing data!"
   ]
  },
  {
   "cell_type": "code",
   "execution_count": 4,
   "metadata": {},
   "outputs": [
    {
     "data": {
      "text/plain": [
       "<matplotlib.axes._subplots.AxesSubplot at 0x12efec09910>"
      ]
     },
     "execution_count": 4,
     "metadata": {},
     "output_type": "execute_result"
    },
    {
     "data": {
      "image/png": "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\n",
      "text/plain": [
       "<Figure size 432x288 with 1 Axes>"
      ]
     },
     "metadata": {
      "needs_background": "light"
     },
     "output_type": "display_data"
    }
   ],
   "source": [
    "sns.heatmap(train.isnull(),yticklabels=False,cbar=False,cmap='viridis')"
   ]
  },
  {
   "cell_type": "markdown",
   "metadata": {},
   "source": [
    "Roughly 20 percent of the Age data is missing. The proportion of Age missing is likely small enough for reasonable replacement with some form of imputation. Looking at the Cabin column, it looks like we are just missing too much of that data to do something useful with at a basic level. We'll probably drop this later, or change it to another feature like \"Cabin Known: 1 or 0\"\n",
    "\n",
    "Let's continue on by visualizing some more of the data! Check out the video for full explanations over these plots, this code is just to serve as reference."
   ]
  },
  {
   "cell_type": "code",
   "execution_count": 5,
   "metadata": {},
   "outputs": [
    {
     "data": {
      "text/plain": [
       "<matplotlib.axes._subplots.AxesSubplot at 0x12efecfb760>"
      ]
     },
     "execution_count": 5,
     "metadata": {},
     "output_type": "execute_result"
    },
    {
     "data": {
      "image/png": "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\n",
      "text/plain": [
       "<Figure size 432x288 with 1 Axes>"
      ]
     },
     "metadata": {},
     "output_type": "display_data"
    }
   ],
   "source": [
    "sns.set_style('whitegrid')\n",
    "sns.countplot(x='Survived',data=train,palette='RdBu_r')"
   ]
  },
  {
   "cell_type": "code",
   "execution_count": 6,
   "metadata": {},
   "outputs": [
    {
     "data": {
      "text/plain": [
       "<matplotlib.axes._subplots.AxesSubplot at 0x12effd3a2b0>"
      ]
     },
     "execution_count": 6,
     "metadata": {},
     "output_type": "execute_result"
    },
    {
     "data": {
      "image/png": "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\n",
      "text/plain": [
       "<Figure size 432x288 with 1 Axes>"
      ]
     },
     "metadata": {},
     "output_type": "display_data"
    }
   ],
   "source": [
    "sns.set_style('whitegrid')\n",
    "sns.countplot(x='Survived',hue='Sex',data=train,palette='RdBu_r')"
   ]
  },
  {
   "cell_type": "code",
   "execution_count": 7,
   "metadata": {},
   "outputs": [
    {
     "data": {
      "text/plain": [
       "<matplotlib.axes._subplots.AxesSubplot at 0x12effdd7310>"
      ]
     },
     "execution_count": 7,
     "metadata": {},
     "output_type": "execute_result"
    },
    {
     "data": {
      "image/png": "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\n",
      "text/plain": [
       "<Figure size 432x288 with 1 Axes>"
      ]
     },
     "metadata": {},
     "output_type": "display_data"
    }
   ],
   "source": [
    "sns.set_style('whitegrid')\n",
    "sns.countplot(x='Survived',hue='Pclass',data=train,palette='rainbow')"
   ]
  },
  {
   "cell_type": "code",
   "execution_count": 8,
   "metadata": {},
   "outputs": [
    {
     "name": "stderr",
     "output_type": "stream",
     "text": [
      "C:\\Users\\sankeerth\\anaconda3\\lib\\site-packages\\seaborn\\distributions.py:2557: FutureWarning: `distplot` is a deprecated function and will be removed in a future version. Please adapt your code to use either `displot` (a figure-level function with similar flexibility) or `histplot` (an axes-level function for histograms).\n",
      "  warnings.warn(msg, FutureWarning)\n"
     ]
    },
    {
     "data": {
      "text/plain": [
       "<matplotlib.axes._subplots.AxesSubplot at 0x12ee2f8db80>"
      ]
     },
     "execution_count": 8,
     "metadata": {},
     "output_type": "execute_result"
    },
    {
     "data": {
      "image/png": "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\n",
      "text/plain": [
       "<Figure size 432x288 with 1 Axes>"
      ]
     },
     "metadata": {},
     "output_type": "display_data"
    }
   ],
   "source": [
    "sns.distplot(train['Age'].dropna(),kde=False,color='darkred',bins=30)"
   ]
  },
  {
   "cell_type": "code",
   "execution_count": 9,
   "metadata": {},
   "outputs": [
    {
     "data": {
      "text/plain": [
       "<matplotlib.axes._subplots.AxesSubplot at 0x12efff31160>"
      ]
     },
     "execution_count": 9,
     "metadata": {},
     "output_type": "execute_result"
    },
    {
     "data": {
      "image/png": "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\n",
      "text/plain": [
       "<Figure size 432x288 with 1 Axes>"
      ]
     },
     "metadata": {},
     "output_type": "display_data"
    }
   ],
   "source": [
    "train['Age'].hist(bins=30,color='darkred',alpha=0.7)"
   ]
  },
  {
   "cell_type": "code",
   "execution_count": 10,
   "metadata": {},
   "outputs": [
    {
     "data": {
      "text/plain": [
       "<matplotlib.axes._subplots.AxesSubplot at 0x12ea800ea90>"
      ]
     },
     "execution_count": 10,
     "metadata": {},
     "output_type": "execute_result"
    },
    {
     "data": {
      "image/png": "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\n",
      "text/plain": [
       "<Figure size 432x288 with 1 Axes>"
      ]
     },
     "metadata": {},
     "output_type": "display_data"
    }
   ],
   "source": [
    "sns.countplot(x='SibSp',data=train)"
   ]
  },
  {
   "cell_type": "code",
   "execution_count": 11,
   "metadata": {},
   "outputs": [
    {
     "data": {
      "text/plain": [
       "<matplotlib.axes._subplots.AxesSubplot at 0x12ea80892e0>"
      ]
     },
     "execution_count": 11,
     "metadata": {},
     "output_type": "execute_result"
    },
    {
     "data": {
      "image/png": "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\n",
      "text/plain": [
       "<Figure size 576x288 with 1 Axes>"
      ]
     },
     "metadata": {},
     "output_type": "display_data"
    }
   ],
   "source": [
    "train['Fare'].hist(color='green',bins=40,figsize=(8,4))"
   ]
  },
  {
   "cell_type": "markdown",
   "metadata": {},
   "source": [
    "____\n",
    "### Cufflinks for plots\n",
    "___\n",
    " Let's take a quick moment to show an example of cufflinks!"
   ]
  },
  {
   "cell_type": "code",
   "execution_count": 12,
   "metadata": {},
   "outputs": [
    {
     "data": {
      "text/html": [
       "        <script type=\"text/javascript\">\n",
       "        window.PlotlyConfig = {MathJaxConfig: 'local'};\n",
       "        if (window.MathJax) {MathJax.Hub.Config({SVG: {font: \"STIX-Web\"}});}\n",
       "        if (typeof require !== 'undefined') {\n",
       "        require.undef(\"plotly\");\n",
       "        requirejs.config({\n",
       "            paths: {\n",
       "                'plotly': ['https://cdn.plot.ly/plotly-2.4.2.min']\n",
       "            }\n",
       "        });\n",
       "        require(['plotly'], function(Plotly) {\n",
       "            window._Plotly = Plotly;\n",
       "        });\n",
       "        }\n",
       "        </script>\n",
       "        "
      ]
     },
     "metadata": {},
     "output_type": "display_data"
    }
   ],
   "source": [
    "import cufflinks as cf\n",
    "cf.go_offline()"
   ]
  },
  {
   "cell_type": "code",
   "execution_count": 13,
   "metadata": {},
   "outputs": [
    {
     "data": {
      "application/vnd.plotly.v1+json": {
       "config": {
        "linkText": "Export to plot.ly",
        "plotlyServerURL": "https://plot.ly",
        "showLink": true
       },
       "data": [
        {
         "histfunc": "count",
         "histnorm": "",
         "marker": {
          "color": "rgba(0, 128, 0, 1.0)",
          "line": {
           "color": "#4D5663",
           "width": 1.3
          }
         },
         "name": "Fare",
         "nbinsx": 30,
         "opacity": 0.8,
         "orientation": "v",
         "type": "histogram",
         "x": [
          7.8292,
          7,
          9.6875,
          8.6625,
          12.2875,
          9.225,
          7.6292,
          29,
          7.2292,
          24.15,
          7.8958,
          26,
          82.2667,
          26,
          61.175,
          27.7208,
          12.35,
          7.225,
          7.925,
          7.225,
          59.4,
          3.1708,
          31.6833,
          61.3792,
          262.375,
          14.5,
          61.9792,
          7.225,
          30.5,
          21.6792,
          26,
          31.5,
          20.575,
          23.45,
          57.75,
          7.2292,
          8.05,
          8.6625,
          9.5,
          56.4958,
          13.4167,
          26.55,
          7.85,
          13,
          52.5542,
          7.925,
          29.7,
          7.75,
          76.2917,
          15.9,
          60,
          15.0333,
          23,
          263,
          15.5792,
          29.125,
          7.8958,
          7.65,
          16.1,
          262.375,
          7.8958,
          13.5,
          7.75,
          7.725,
          262.375,
          21,
          7.8792,
          42.4,
          28.5375,
          263,
          7.75,
          7.8958,
          7.925,
          27.7208,
          211.5,
          211.5,
          8.05,
          25.7,
          13,
          7.75,
          15.2458,
          221.7792,
          26,
          7.8958,
          10.7083,
          14.4542,
          7.8792,
          8.05,
          7.75,
          23,
          13.9,
          7.775,
          52,
          8.05,
          26,
          7.7958,
          78.85,
          7.925,
          7.8542,
          8.05,
          55.4417,
          26,
          7.75,
          7.775,
          8.5167,
          22.525,
          7.8208,
          7.75,
          8.7125,
          13,
          15.0458,
          7.7792,
          31.6792,
          7.2833,
          221.7792,
          14.4542,
          6.4375,
          16.7,
          75.2417,
          26,
          15.75,
          7.75,
          57.75,
          7.25,
          7.75,
          16.1,
          7.7958,
          23.25,
          13,
          8.05,
          8.05,
          28.5,
          25.4667,
          6.4375,
          7.8958,
          7.8542,
          7.225,
          13,
          8.05,
          46.9,
          46.9,
          151.55,
          262.375,
          26,
          26.55,
          18,
          51.8625,
          8.05,
          26.55,
          26,
          83.1583,
          7.8958,
          null,
          12.1833,
          31.3875,
          7.55,
          221.7792,
          7.8542,
          26.55,
          13.775,
          7.7333,
          15.2458,
          13.5,
          7,
          13,
          22.025,
          50.4958,
          34.375,
          27.7208,
          8.9625,
          7.55,
          7.225,
          13.9,
          7.2292,
          31.3875,
          39,
          36.75,
          55.4417,
          39,
          83.1583,
          13,
          83.1583,
          53.1,
          7.75,
          247.5208,
          16,
          21,
          8.05,
          69.55,
          13,
          26,
          26,
          14.5,
          12.35,
          32.5,
          7.8542,
          134.5,
          7.775,
          10.5,
          8.1125,
          15.5,
          14.4,
          227.525,
          26,
          10.5,
          25.7417,
          7.75,
          10.5,
          27.7208,
          7.8958,
          22.525,
          7.05,
          73.5,
          26,
          7.775,
          42.5,
          7.8792,
          164.8667,
          211.5,
          8.05,
          13.8583,
          8.05,
          10.5,
          7.7958,
          27.4458,
          15.2458,
          7.7958,
          7.75,
          15.1,
          13,
          65,
          26.55,
          6.4958,
          7.8792,
          71.2833,
          7.8542,
          75.25,
          7.225,
          13,
          106.425,
          27.7208,
          30,
          134.5,
          7.8875,
          23.45,
          51.8625,
          21,
          32.5,
          26,
          14.4542,
          27.75,
          7.925,
          136.7792,
          9.325,
          9.5,
          7.55,
          7.75,
          8.05,
          13,
          7.775,
          17.4,
          7.8542,
          23,
          12.1833,
          12.7375,
          7.8958,
          0,
          7.55,
          8.05,
          8.6625,
          75.2417,
          7.75,
          136.7792,
          15.5,
          7.225,
          26,
          10.5,
          26,
          21,
          10.5,
          8.6625,
          13.775,
          7.75,
          15.2458,
          20.2125,
          7.25,
          7.25,
          82.2667,
          7.2292,
          8.05,
          39.6,
          6.95,
          7.2292,
          81.8583,
          9.5,
          7.8958,
          41.5792,
          21.6792,
          45.5,
          7.8542,
          7.775,
          15.0458,
          21,
          8.6625,
          7.75,
          26.55,
          151.55,
          9.35,
          93.5,
          14.1083,
          8.6625,
          7.225,
          7.575,
          7.75,
          135.6333,
          7.7333,
          146.5208,
          10.5,
          7.8542,
          31.5,
          7.775,
          7.2292,
          13,
          26.55,
          211.3375,
          7.05,
          39,
          79.2,
          26,
          13,
          36.75,
          29.7,
          7.225,
          15.7417,
          7.8958,
          26,
          13,
          7.2292,
          31.5,
          7.2292,
          10.5,
          7.5792,
          69.55,
          512.3292,
          14.5,
          7.65,
          13,
          7.2292,
          13.5,
          21,
          63.3583,
          10.5,
          73.5,
          65,
          20.575,
          26,
          51.4792,
          7.8792,
          7.75,
          15.55,
          69.55,
          37.0042,
          21,
          8.6625,
          55.4417,
          69.55,
          14.4583,
          39.6875,
          59.4,
          13.8583,
          11.5,
          134.5,
          0,
          13,
          81.8583,
          262.375,
          8.6625,
          11.5,
          50,
          31.3875,
          7.75,
          7.8792,
          14.5,
          16.1,
          12.875,
          65,
          7.775,
          13,
          7.75,
          21.075,
          93.5,
          39.4,
          20.25,
          10.5,
          22.025,
          60,
          7.25,
          79.2,
          7.775,
          7.7333,
          164.8667,
          21,
          59.4,
          47.1,
          27.7208,
          13.8625,
          10.5,
          211.5,
          7.7208,
          13.775,
          7.75,
          90,
          7.775,
          8.05,
          108.9,
          7.25,
          8.05,
          22.3583
         ]
        }
       ],
       "layout": {
        "barmode": "overlay",
        "legend": {
         "bgcolor": "#F5F6F9",
         "font": {
          "color": "#4D5663"
         }
        },
        "paper_bgcolor": "#F5F6F9",
        "plot_bgcolor": "#F5F6F9",
        "template": {
         "data": {
          "bar": [
           {
            "error_x": {
             "color": "#2a3f5f"
            },
            "error_y": {
             "color": "#2a3f5f"
            },
            "marker": {
             "line": {
              "color": "#E5ECF6",
              "width": 0.5
             },
             "pattern": {
              "fillmode": "overlay",
              "size": 10,
              "solidity": 0.2
             }
            },
            "type": "bar"
           }
          ],
          "barpolar": [
           {
            "marker": {
             "line": {
              "color": "#E5ECF6",
              "width": 0.5
             },
             "pattern": {
              "fillmode": "overlay",
              "size": 10,
              "solidity": 0.2
             }
            },
            "type": "barpolar"
           }
          ],
          "carpet": [
           {
            "aaxis": {
             "endlinecolor": "#2a3f5f",
             "gridcolor": "white",
             "linecolor": "white",
             "minorgridcolor": "white",
             "startlinecolor": "#2a3f5f"
            },
            "baxis": {
             "endlinecolor": "#2a3f5f",
             "gridcolor": "white",
             "linecolor": "white",
             "minorgridcolor": "white",
             "startlinecolor": "#2a3f5f"
            },
            "type": "carpet"
           }
          ],
          "choropleth": [
           {
            "colorbar": {
             "outlinewidth": 0,
             "ticks": ""
            },
            "type": "choropleth"
           }
          ],
          "contour": [
           {
            "colorbar": {
             "outlinewidth": 0,
             "ticks": ""
            },
            "colorscale": [
             [
              0,
              "#0d0887"
             ],
             [
              0.1111111111111111,
              "#46039f"
             ],
             [
              0.2222222222222222,
              "#7201a8"
             ],
             [
              0.3333333333333333,
              "#9c179e"
             ],
             [
              0.4444444444444444,
              "#bd3786"
             ],
             [
              0.5555555555555556,
              "#d8576b"
             ],
             [
              0.6666666666666666,
              "#ed7953"
             ],
             [
              0.7777777777777778,
              "#fb9f3a"
             ],
             [
              0.8888888888888888,
              "#fdca26"
             ],
             [
              1,
              "#f0f921"
             ]
            ],
            "type": "contour"
           }
          ],
          "contourcarpet": [
           {
            "colorbar": {
             "outlinewidth": 0,
             "ticks": ""
            },
            "type": "contourcarpet"
           }
          ],
          "heatmap": [
           {
            "colorbar": {
             "outlinewidth": 0,
             "ticks": ""
            },
            "colorscale": [
             [
              0,
              "#0d0887"
             ],
             [
              0.1111111111111111,
              "#46039f"
             ],
             [
              0.2222222222222222,
              "#7201a8"
             ],
             [
              0.3333333333333333,
              "#9c179e"
             ],
             [
              0.4444444444444444,
              "#bd3786"
             ],
             [
              0.5555555555555556,
              "#d8576b"
             ],
             [
              0.6666666666666666,
              "#ed7953"
             ],
             [
              0.7777777777777778,
              "#fb9f3a"
             ],
             [
              0.8888888888888888,
              "#fdca26"
             ],
             [
              1,
              "#f0f921"
             ]
            ],
            "type": "heatmap"
           }
          ],
          "heatmapgl": [
           {
            "colorbar": {
             "outlinewidth": 0,
             "ticks": ""
            },
            "colorscale": [
             [
              0,
              "#0d0887"
             ],
             [
              0.1111111111111111,
              "#46039f"
             ],
             [
              0.2222222222222222,
              "#7201a8"
             ],
             [
              0.3333333333333333,
              "#9c179e"
             ],
             [
              0.4444444444444444,
              "#bd3786"
             ],
             [
              0.5555555555555556,
              "#d8576b"
             ],
             [
              0.6666666666666666,
              "#ed7953"
             ],
             [
              0.7777777777777778,
              "#fb9f3a"
             ],
             [
              0.8888888888888888,
              "#fdca26"
             ],
             [
              1,
              "#f0f921"
             ]
            ],
            "type": "heatmapgl"
           }
          ],
          "histogram": [
           {
            "marker": {
             "pattern": {
              "fillmode": "overlay",
              "size": 10,
              "solidity": 0.2
             }
            },
            "type": "histogram"
           }
          ],
          "histogram2d": [
           {
            "colorbar": {
             "outlinewidth": 0,
             "ticks": ""
            },
            "colorscale": [
             [
              0,
              "#0d0887"
             ],
             [
              0.1111111111111111,
              "#46039f"
             ],
             [
              0.2222222222222222,
              "#7201a8"
             ],
             [
              0.3333333333333333,
              "#9c179e"
             ],
             [
              0.4444444444444444,
              "#bd3786"
             ],
             [
              0.5555555555555556,
              "#d8576b"
             ],
             [
              0.6666666666666666,
              "#ed7953"
             ],
             [
              0.7777777777777778,
              "#fb9f3a"
             ],
             [
              0.8888888888888888,
              "#fdca26"
             ],
             [
              1,
              "#f0f921"
             ]
            ],
            "type": "histogram2d"
           }
          ],
          "histogram2dcontour": [
           {
            "colorbar": {
             "outlinewidth": 0,
             "ticks": ""
            },
            "colorscale": [
             [
              0,
              "#0d0887"
             ],
             [
              0.1111111111111111,
              "#46039f"
             ],
             [
              0.2222222222222222,
              "#7201a8"
             ],
             [
              0.3333333333333333,
              "#9c179e"
             ],
             [
              0.4444444444444444,
              "#bd3786"
             ],
             [
              0.5555555555555556,
              "#d8576b"
             ],
             [
              0.6666666666666666,
              "#ed7953"
             ],
             [
              0.7777777777777778,
              "#fb9f3a"
             ],
             [
              0.8888888888888888,
              "#fdca26"
             ],
             [
              1,
              "#f0f921"
             ]
            ],
            "type": "histogram2dcontour"
           }
          ],
          "mesh3d": [
           {
            "colorbar": {
             "outlinewidth": 0,
             "ticks": ""
            },
            "type": "mesh3d"
           }
          ],
          "parcoords": [
           {
            "line": {
             "colorbar": {
              "outlinewidth": 0,
              "ticks": ""
             }
            },
            "type": "parcoords"
           }
          ],
          "pie": [
           {
            "automargin": true,
            "type": "pie"
           }
          ],
          "scatter": [
           {
            "marker": {
             "colorbar": {
              "outlinewidth": 0,
              "ticks": ""
             }
            },
            "type": "scatter"
           }
          ],
          "scatter3d": [
           {
            "line": {
             "colorbar": {
              "outlinewidth": 0,
              "ticks": ""
             }
            },
            "marker": {
             "colorbar": {
              "outlinewidth": 0,
              "ticks": ""
             }
            },
            "type": "scatter3d"
           }
          ],
          "scattercarpet": [
           {
            "marker": {
             "colorbar": {
              "outlinewidth": 0,
              "ticks": ""
             }
            },
            "type": "scattercarpet"
           }
          ],
          "scattergeo": [
           {
            "marker": {
             "colorbar": {
              "outlinewidth": 0,
              "ticks": ""
             }
            },
            "type": "scattergeo"
           }
          ],
          "scattergl": [
           {
            "marker": {
             "colorbar": {
              "outlinewidth": 0,
              "ticks": ""
             }
            },
            "type": "scattergl"
           }
          ],
          "scattermapbox": [
           {
            "marker": {
             "colorbar": {
              "outlinewidth": 0,
              "ticks": ""
             }
            },
            "type": "scattermapbox"
           }
          ],
          "scatterpolar": [
           {
            "marker": {
             "colorbar": {
              "outlinewidth": 0,
              "ticks": ""
             }
            },
            "type": "scatterpolar"
           }
          ],
          "scatterpolargl": [
           {
            "marker": {
             "colorbar": {
              "outlinewidth": 0,
              "ticks": ""
             }
            },
            "type": "scatterpolargl"
           }
          ],
          "scatterternary": [
           {
            "marker": {
             "colorbar": {
              "outlinewidth": 0,
              "ticks": ""
             }
            },
            "type": "scatterternary"
           }
          ],
          "surface": [
           {
            "colorbar": {
             "outlinewidth": 0,
             "ticks": ""
            },
            "colorscale": [
             [
              0,
              "#0d0887"
             ],
             [
              0.1111111111111111,
              "#46039f"
             ],
             [
              0.2222222222222222,
              "#7201a8"
             ],
             [
              0.3333333333333333,
              "#9c179e"
             ],
             [
              0.4444444444444444,
              "#bd3786"
             ],
             [
              0.5555555555555556,
              "#d8576b"
             ],
             [
              0.6666666666666666,
              "#ed7953"
             ],
             [
              0.7777777777777778,
              "#fb9f3a"
             ],
             [
              0.8888888888888888,
              "#fdca26"
             ],
             [
              1,
              "#f0f921"
             ]
            ],
            "type": "surface"
           }
          ],
          "table": [
           {
            "cells": {
             "fill": {
              "color": "#EBF0F8"
             },
             "line": {
              "color": "white"
             }
            },
            "header": {
             "fill": {
              "color": "#C8D4E3"
             },
             "line": {
              "color": "white"
             }
            },
            "type": "table"
           }
          ]
         },
         "layout": {
          "annotationdefaults": {
           "arrowcolor": "#2a3f5f",
           "arrowhead": 0,
           "arrowwidth": 1
          },
          "autotypenumbers": "strict",
          "coloraxis": {
           "colorbar": {
            "outlinewidth": 0,
            "ticks": ""
           }
          },
          "colorscale": {
           "diverging": [
            [
             0,
             "#8e0152"
            ],
            [
             0.1,
             "#c51b7d"
            ],
            [
             0.2,
             "#de77ae"
            ],
            [
             0.3,
             "#f1b6da"
            ],
            [
             0.4,
             "#fde0ef"
            ],
            [
             0.5,
             "#f7f7f7"
            ],
            [
             0.6,
             "#e6f5d0"
            ],
            [
             0.7,
             "#b8e186"
            ],
            [
             0.8,
             "#7fbc41"
            ],
            [
             0.9,
             "#4d9221"
            ],
            [
             1,
             "#276419"
            ]
           ],
           "sequential": [
            [
             0,
             "#0d0887"
            ],
            [
             0.1111111111111111,
             "#46039f"
            ],
            [
             0.2222222222222222,
             "#7201a8"
            ],
            [
             0.3333333333333333,
             "#9c179e"
            ],
            [
             0.4444444444444444,
             "#bd3786"
            ],
            [
             0.5555555555555556,
             "#d8576b"
            ],
            [
             0.6666666666666666,
             "#ed7953"
            ],
            [
             0.7777777777777778,
             "#fb9f3a"
            ],
            [
             0.8888888888888888,
             "#fdca26"
            ],
            [
             1,
             "#f0f921"
            ]
           ],
           "sequentialminus": [
            [
             0,
             "#0d0887"
            ],
            [
             0.1111111111111111,
             "#46039f"
            ],
            [
             0.2222222222222222,
             "#7201a8"
            ],
            [
             0.3333333333333333,
             "#9c179e"
            ],
            [
             0.4444444444444444,
             "#bd3786"
            ],
            [
             0.5555555555555556,
             "#d8576b"
            ],
            [
             0.6666666666666666,
             "#ed7953"
            ],
            [
             0.7777777777777778,
             "#fb9f3a"
            ],
            [
             0.8888888888888888,
             "#fdca26"
            ],
            [
             1,
             "#f0f921"
            ]
           ]
          },
          "colorway": [
           "#636efa",
           "#EF553B",
           "#00cc96",
           "#ab63fa",
           "#FFA15A",
           "#19d3f3",
           "#FF6692",
           "#B6E880",
           "#FF97FF",
           "#FECB52"
          ],
          "font": {
           "color": "#2a3f5f"
          },
          "geo": {
           "bgcolor": "white",
           "lakecolor": "white",
           "landcolor": "#E5ECF6",
           "showlakes": true,
           "showland": true,
           "subunitcolor": "white"
          },
          "hoverlabel": {
           "align": "left"
          },
          "hovermode": "closest",
          "mapbox": {
           "style": "light"
          },
          "paper_bgcolor": "white",
          "plot_bgcolor": "#E5ECF6",
          "polar": {
           "angularaxis": {
            "gridcolor": "white",
            "linecolor": "white",
            "ticks": ""
           },
           "bgcolor": "#E5ECF6",
           "radialaxis": {
            "gridcolor": "white",
            "linecolor": "white",
            "ticks": ""
           }
          },
          "scene": {
           "xaxis": {
            "backgroundcolor": "#E5ECF6",
            "gridcolor": "white",
            "gridwidth": 2,
            "linecolor": "white",
            "showbackground": true,
            "ticks": "",
            "zerolinecolor": "white"
           },
           "yaxis": {
            "backgroundcolor": "#E5ECF6",
            "gridcolor": "white",
            "gridwidth": 2,
            "linecolor": "white",
            "showbackground": true,
            "ticks": "",
            "zerolinecolor": "white"
           },
           "zaxis": {
            "backgroundcolor": "#E5ECF6",
            "gridcolor": "white",
            "gridwidth": 2,
            "linecolor": "white",
            "showbackground": true,
            "ticks": "",
            "zerolinecolor": "white"
           }
          },
          "shapedefaults": {
           "line": {
            "color": "#2a3f5f"
           }
          },
          "ternary": {
           "aaxis": {
            "gridcolor": "white",
            "linecolor": "white",
            "ticks": ""
           },
           "baxis": {
            "gridcolor": "white",
            "linecolor": "white",
            "ticks": ""
           },
           "bgcolor": "#E5ECF6",
           "caxis": {
            "gridcolor": "white",
            "linecolor": "white",
            "ticks": ""
           }
          },
          "title": {
           "x": 0.05
          },
          "xaxis": {
           "automargin": true,
           "gridcolor": "white",
           "linecolor": "white",
           "ticks": "",
           "title": {
            "standoff": 15
           },
           "zerolinecolor": "white",
           "zerolinewidth": 2
          },
          "yaxis": {
           "automargin": true,
           "gridcolor": "white",
           "linecolor": "white",
           "ticks": "",
           "title": {
            "standoff": 15
           },
           "zerolinecolor": "white",
           "zerolinewidth": 2
          }
         }
        },
        "title": {
         "font": {
          "color": "#4D5663"
         }
        },
        "xaxis": {
         "gridcolor": "#E1E5ED",
         "showgrid": true,
         "tickfont": {
          "color": "#4D5663"
         },
         "title": {
          "font": {
           "color": "#4D5663"
          },
          "text": ""
         },
         "zerolinecolor": "#E1E5ED"
        },
        "yaxis": {
         "gridcolor": "#E1E5ED",
         "showgrid": true,
         "tickfont": {
          "color": "#4D5663"
         },
         "title": {
          "font": {
           "color": "#4D5663"
          },
          "text": ""
         },
         "zerolinecolor": "#E1E5ED"
        }
       }
      },
      "text/html": [
       "<div>                            <div id=\"206858c1-b5ae-4004-9ade-e4c6694b1e03\" class=\"plotly-graph-div\" style=\"height:525px; width:100%;\"></div>            <script type=\"text/javascript\">                require([\"plotly\"], function(Plotly) {                    window.PLOTLYENV=window.PLOTLYENV || {};\n",
       "                    window.PLOTLYENV.BASE_URL='https://plot.ly';                                    if (document.getElementById(\"206858c1-b5ae-4004-9ade-e4c6694b1e03\")) {                    Plotly.newPlot(                        \"206858c1-b5ae-4004-9ade-e4c6694b1e03\",                        [{\"histfunc\":\"count\",\"histnorm\":\"\",\"marker\":{\"color\":\"rgba(0, 128, 0, 1.0)\",\"line\":{\"color\":\"#4D5663\",\"width\":1.3}},\"name\":\"Fare\",\"nbinsx\":30,\"opacity\":0.8,\"orientation\":\"v\",\"type\":\"histogram\",\"x\":[7.8292,7.0,9.6875,8.6625,12.2875,9.225,7.6292,29.0,7.2292,24.15,7.8958,26.0,82.2667,26.0,61.175,27.7208,12.35,7.225,7.925,7.225,59.4,3.1708,31.6833,61.3792,262.375,14.5,61.9792,7.225,30.5,21.6792,26.0,31.5,20.575,23.45,57.75,7.2292,8.05,8.6625,9.5,56.4958,13.4167,26.55,7.85,13.0,52.5542,7.925,29.7,7.75,76.2917,15.9,60.0,15.0333,23.0,263.0,15.5792,29.125,7.8958,7.65,16.1,262.375,7.8958,13.5,7.75,7.725,262.375,21.0,7.8792,42.4,28.5375,263.0,7.75,7.8958,7.925,27.7208,211.5,211.5,8.05,25.7,13.0,7.75,15.2458,221.7792,26.0,7.8958,10.7083,14.4542,7.8792,8.05,7.75,23.0,13.9,7.775,52.0,8.05,26.0,7.7958,78.85,7.925,7.8542,8.05,55.4417,26.0,7.75,7.775,8.5167,22.525,7.8208,7.75,8.7125,13.0,15.0458,7.7792,31.6792,7.2833,221.7792,14.4542,6.4375,16.7,75.2417,26.0,15.75,7.75,57.75,7.25,7.75,16.1,7.7958,23.25,13.0,8.05,8.05,28.5,25.4667,6.4375,7.8958,7.8542,7.225,13.0,8.05,46.9,46.9,151.55,262.375,26.0,26.55,18.0,51.8625,8.05,26.55,26.0,83.1583,7.8958,null,12.1833,31.3875,7.55,221.7792,7.8542,26.55,13.775,7.7333,15.2458,13.5,7.0,13.0,22.025,50.4958,34.375,27.7208,8.9625,7.55,7.225,13.9,7.2292,31.3875,39.0,36.75,55.4417,39.0,83.1583,13.0,83.1583,53.1,7.75,247.5208,16.0,21.0,8.05,69.55,13.0,26.0,26.0,14.5,12.35,32.5,7.8542,134.5,7.775,10.5,8.1125,15.5,14.4,227.525,26.0,10.5,25.7417,7.75,10.5,27.7208,7.8958,22.525,7.05,73.5,26.0,7.775,42.5,7.8792,164.8667,211.5,8.05,13.8583,8.05,10.5,7.7958,27.4458,15.2458,7.7958,7.75,15.1,13.0,65.0,26.55,6.4958,7.8792,71.2833,7.8542,75.25,7.225,13.0,106.425,27.7208,30.0,134.5,7.8875,23.45,51.8625,21.0,32.5,26.0,14.4542,27.75,7.925,136.7792,9.325,9.5,7.55,7.75,8.05,13.0,7.775,17.4,7.8542,23.0,12.1833,12.7375,7.8958,0.0,7.55,8.05,8.6625,75.2417,7.75,136.7792,15.5,7.225,26.0,10.5,26.0,21.0,10.5,8.6625,13.775,7.75,15.2458,20.2125,7.25,7.25,82.2667,7.2292,8.05,39.6,6.95,7.2292,81.8583,9.5,7.8958,41.5792,21.6792,45.5,7.8542,7.775,15.0458,21.0,8.6625,7.75,26.55,151.55,9.35,93.5,14.1083,8.6625,7.225,7.575,7.75,135.6333,7.7333,146.5208,10.5,7.8542,31.5,7.775,7.2292,13.0,26.55,211.3375,7.05,39.0,79.2,26.0,13.0,36.75,29.7,7.225,15.7417,7.8958,26.0,13.0,7.2292,31.5,7.2292,10.5,7.5792,69.55,512.3292,14.5,7.65,13.0,7.2292,13.5,21.0,63.3583,10.5,73.5,65.0,20.575,26.0,51.4792,7.8792,7.75,15.55,69.55,37.0042,21.0,8.6625,55.4417,69.55,14.4583,39.6875,59.4,13.8583,11.5,134.5,0.0,13.0,81.8583,262.375,8.6625,11.5,50.0,31.3875,7.75,7.8792,14.5,16.1,12.875,65.0,7.775,13.0,7.75,21.075,93.5,39.4,20.25,10.5,22.025,60.0,7.25,79.2,7.775,7.7333,164.8667,21.0,59.4,47.1,27.7208,13.8625,10.5,211.5,7.7208,13.775,7.75,90.0,7.775,8.05,108.9,7.25,8.05,22.3583]}],                        {\"barmode\":\"overlay\",\"legend\":{\"bgcolor\":\"#F5F6F9\",\"font\":{\"color\":\"#4D5663\"}},\"paper_bgcolor\":\"#F5F6F9\",\"plot_bgcolor\":\"#F5F6F9\",\"template\":{\"data\":{\"bar\":[{\"error_x\":{\"color\":\"#2a3f5f\"},\"error_y\":{\"color\":\"#2a3f5f\"},\"marker\":{\"line\":{\"color\":\"#E5ECF6\",\"width\":0.5},\"pattern\":{\"fillmode\":\"overlay\",\"size\":10,\"solidity\":0.2}},\"type\":\"bar\"}],\"barpolar\":[{\"marker\":{\"line\":{\"color\":\"#E5ECF6\",\"width\":0.5},\"pattern\":{\"fillmode\":\"overlay\",\"size\":10,\"solidity\":0.2}},\"type\":\"barpolar\"}],\"carpet\":[{\"aaxis\":{\"endlinecolor\":\"#2a3f5f\",\"gridcolor\":\"white\",\"linecolor\":\"white\",\"minorgridcolor\":\"white\",\"startlinecolor\":\"#2a3f5f\"},\"baxis\":{\"endlinecolor\":\"#2a3f5f\",\"gridcolor\":\"white\",\"linecolor\":\"white\",\"minorgridcolor\":\"white\",\"startlinecolor\":\"#2a3f5f\"},\"type\":\"carpet\"}],\"choropleth\":[{\"colorbar\":{\"outlinewidth\":0,\"ticks\":\"\"},\"type\":\"choropleth\"}],\"contour\":[{\"colorbar\":{\"outlinewidth\":0,\"ticks\":\"\"},\"colorscale\":[[0.0,\"#0d0887\"],[0.1111111111111111,\"#46039f\"],[0.2222222222222222,\"#7201a8\"],[0.3333333333333333,\"#9c179e\"],[0.4444444444444444,\"#bd3786\"],[0.5555555555555556,\"#d8576b\"],[0.6666666666666666,\"#ed7953\"],[0.7777777777777778,\"#fb9f3a\"],[0.8888888888888888,\"#fdca26\"],[1.0,\"#f0f921\"]],\"type\":\"contour\"}],\"contourcarpet\":[{\"colorbar\":{\"outlinewidth\":0,\"ticks\":\"\"},\"type\":\"contourcarpet\"}],\"heatmap\":[{\"colorbar\":{\"outlinewidth\":0,\"ticks\":\"\"},\"colorscale\":[[0.0,\"#0d0887\"],[0.1111111111111111,\"#46039f\"],[0.2222222222222222,\"#7201a8\"],[0.3333333333333333,\"#9c179e\"],[0.4444444444444444,\"#bd3786\"],[0.5555555555555556,\"#d8576b\"],[0.6666666666666666,\"#ed7953\"],[0.7777777777777778,\"#fb9f3a\"],[0.8888888888888888,\"#fdca26\"],[1.0,\"#f0f921\"]],\"type\":\"heatmap\"}],\"heatmapgl\":[{\"colorbar\":{\"outlinewidth\":0,\"ticks\":\"\"},\"colorscale\":[[0.0,\"#0d0887\"],[0.1111111111111111,\"#46039f\"],[0.2222222222222222,\"#7201a8\"],[0.3333333333333333,\"#9c179e\"],[0.4444444444444444,\"#bd3786\"],[0.5555555555555556,\"#d8576b\"],[0.6666666666666666,\"#ed7953\"],[0.7777777777777778,\"#fb9f3a\"],[0.8888888888888888,\"#fdca26\"],[1.0,\"#f0f921\"]],\"type\":\"heatmapgl\"}],\"histogram\":[{\"marker\":{\"pattern\":{\"fillmode\":\"overlay\",\"size\":10,\"solidity\":0.2}},\"type\":\"histogram\"}],\"histogram2d\":[{\"colorbar\":{\"outlinewidth\":0,\"ticks\":\"\"},\"colorscale\":[[0.0,\"#0d0887\"],[0.1111111111111111,\"#46039f\"],[0.2222222222222222,\"#7201a8\"],[0.3333333333333333,\"#9c179e\"],[0.4444444444444444,\"#bd3786\"],[0.5555555555555556,\"#d8576b\"],[0.6666666666666666,\"#ed7953\"],[0.7777777777777778,\"#fb9f3a\"],[0.8888888888888888,\"#fdca26\"],[1.0,\"#f0f921\"]],\"type\":\"histogram2d\"}],\"histogram2dcontour\":[{\"colorbar\":{\"outlinewidth\":0,\"ticks\":\"\"},\"colorscale\":[[0.0,\"#0d0887\"],[0.1111111111111111,\"#46039f\"],[0.2222222222222222,\"#7201a8\"],[0.3333333333333333,\"#9c179e\"],[0.4444444444444444,\"#bd3786\"],[0.5555555555555556,\"#d8576b\"],[0.6666666666666666,\"#ed7953\"],[0.7777777777777778,\"#fb9f3a\"],[0.8888888888888888,\"#fdca26\"],[1.0,\"#f0f921\"]],\"type\":\"histogram2dcontour\"}],\"mesh3d\":[{\"colorbar\":{\"outlinewidth\":0,\"ticks\":\"\"},\"type\":\"mesh3d\"}],\"parcoords\":[{\"line\":{\"colorbar\":{\"outlinewidth\":0,\"ticks\":\"\"}},\"type\":\"parcoords\"}],\"pie\":[{\"automargin\":true,\"type\":\"pie\"}],\"scatter\":[{\"marker\":{\"colorbar\":{\"outlinewidth\":0,\"ticks\":\"\"}},\"type\":\"scatter\"}],\"scatter3d\":[{\"line\":{\"colorbar\":{\"outlinewidth\":0,\"ticks\":\"\"}},\"marker\":{\"colorbar\":{\"outlinewidth\":0,\"ticks\":\"\"}},\"type\":\"scatter3d\"}],\"scattercarpet\":[{\"marker\":{\"colorbar\":{\"outlinewidth\":0,\"ticks\":\"\"}},\"type\":\"scattercarpet\"}],\"scattergeo\":[{\"marker\":{\"colorbar\":{\"outlinewidth\":0,\"ticks\":\"\"}},\"type\":\"scattergeo\"}],\"scattergl\":[{\"marker\":{\"colorbar\":{\"outlinewidth\":0,\"ticks\":\"\"}},\"type\":\"scattergl\"}],\"scattermapbox\":[{\"marker\":{\"colorbar\":{\"outlinewidth\":0,\"ticks\":\"\"}},\"type\":\"scattermapbox\"}],\"scatterpolar\":[{\"marker\":{\"colorbar\":{\"outlinewidth\":0,\"ticks\":\"\"}},\"type\":\"scatterpolar\"}],\"scatterpolargl\":[{\"marker\":{\"colorbar\":{\"outlinewidth\":0,\"ticks\":\"\"}},\"type\":\"scatterpolargl\"}],\"scatterternary\":[{\"marker\":{\"colorbar\":{\"outlinewidth\":0,\"ticks\":\"\"}},\"type\":\"scatterternary\"}],\"surface\":[{\"colorbar\":{\"outlinewidth\":0,\"ticks\":\"\"},\"colorscale\":[[0.0,\"#0d0887\"],[0.1111111111111111,\"#46039f\"],[0.2222222222222222,\"#7201a8\"],[0.3333333333333333,\"#9c179e\"],[0.4444444444444444,\"#bd3786\"],[0.5555555555555556,\"#d8576b\"],[0.6666666666666666,\"#ed7953\"],[0.7777777777777778,\"#fb9f3a\"],[0.8888888888888888,\"#fdca26\"],[1.0,\"#f0f921\"]],\"type\":\"surface\"}],\"table\":[{\"cells\":{\"fill\":{\"color\":\"#EBF0F8\"},\"line\":{\"color\":\"white\"}},\"header\":{\"fill\":{\"color\":\"#C8D4E3\"},\"line\":{\"color\":\"white\"}},\"type\":\"table\"}]},\"layout\":{\"annotationdefaults\":{\"arrowcolor\":\"#2a3f5f\",\"arrowhead\":0,\"arrowwidth\":1},\"autotypenumbers\":\"strict\",\"coloraxis\":{\"colorbar\":{\"outlinewidth\":0,\"ticks\":\"\"}},\"colorscale\":{\"diverging\":[[0,\"#8e0152\"],[0.1,\"#c51b7d\"],[0.2,\"#de77ae\"],[0.3,\"#f1b6da\"],[0.4,\"#fde0ef\"],[0.5,\"#f7f7f7\"],[0.6,\"#e6f5d0\"],[0.7,\"#b8e186\"],[0.8,\"#7fbc41\"],[0.9,\"#4d9221\"],[1,\"#276419\"]],\"sequential\":[[0.0,\"#0d0887\"],[0.1111111111111111,\"#46039f\"],[0.2222222222222222,\"#7201a8\"],[0.3333333333333333,\"#9c179e\"],[0.4444444444444444,\"#bd3786\"],[0.5555555555555556,\"#d8576b\"],[0.6666666666666666,\"#ed7953\"],[0.7777777777777778,\"#fb9f3a\"],[0.8888888888888888,\"#fdca26\"],[1.0,\"#f0f921\"]],\"sequentialminus\":[[0.0,\"#0d0887\"],[0.1111111111111111,\"#46039f\"],[0.2222222222222222,\"#7201a8\"],[0.3333333333333333,\"#9c179e\"],[0.4444444444444444,\"#bd3786\"],[0.5555555555555556,\"#d8576b\"],[0.6666666666666666,\"#ed7953\"],[0.7777777777777778,\"#fb9f3a\"],[0.8888888888888888,\"#fdca26\"],[1.0,\"#f0f921\"]]},\"colorway\":[\"#636efa\",\"#EF553B\",\"#00cc96\",\"#ab63fa\",\"#FFA15A\",\"#19d3f3\",\"#FF6692\",\"#B6E880\",\"#FF97FF\",\"#FECB52\"],\"font\":{\"color\":\"#2a3f5f\"},\"geo\":{\"bgcolor\":\"white\",\"lakecolor\":\"white\",\"landcolor\":\"#E5ECF6\",\"showlakes\":true,\"showland\":true,\"subunitcolor\":\"white\"},\"hoverlabel\":{\"align\":\"left\"},\"hovermode\":\"closest\",\"mapbox\":{\"style\":\"light\"},\"paper_bgcolor\":\"white\",\"plot_bgcolor\":\"#E5ECF6\",\"polar\":{\"angularaxis\":{\"gridcolor\":\"white\",\"linecolor\":\"white\",\"ticks\":\"\"},\"bgcolor\":\"#E5ECF6\",\"radialaxis\":{\"gridcolor\":\"white\",\"linecolor\":\"white\",\"ticks\":\"\"}},\"scene\":{\"xaxis\":{\"backgroundcolor\":\"#E5ECF6\",\"gridcolor\":\"white\",\"gridwidth\":2,\"linecolor\":\"white\",\"showbackground\":true,\"ticks\":\"\",\"zerolinecolor\":\"white\"},\"yaxis\":{\"backgroundcolor\":\"#E5ECF6\",\"gridcolor\":\"white\",\"gridwidth\":2,\"linecolor\":\"white\",\"showbackground\":true,\"ticks\":\"\",\"zerolinecolor\":\"white\"},\"zaxis\":{\"backgroundcolor\":\"#E5ECF6\",\"gridcolor\":\"white\",\"gridwidth\":2,\"linecolor\":\"white\",\"showbackground\":true,\"ticks\":\"\",\"zerolinecolor\":\"white\"}},\"shapedefaults\":{\"line\":{\"color\":\"#2a3f5f\"}},\"ternary\":{\"aaxis\":{\"gridcolor\":\"white\",\"linecolor\":\"white\",\"ticks\":\"\"},\"baxis\":{\"gridcolor\":\"white\",\"linecolor\":\"white\",\"ticks\":\"\"},\"bgcolor\":\"#E5ECF6\",\"caxis\":{\"gridcolor\":\"white\",\"linecolor\":\"white\",\"ticks\":\"\"}},\"title\":{\"x\":0.05},\"xaxis\":{\"automargin\":true,\"gridcolor\":\"white\",\"linecolor\":\"white\",\"ticks\":\"\",\"title\":{\"standoff\":15},\"zerolinecolor\":\"white\",\"zerolinewidth\":2},\"yaxis\":{\"automargin\":true,\"gridcolor\":\"white\",\"linecolor\":\"white\",\"ticks\":\"\",\"title\":{\"standoff\":15},\"zerolinecolor\":\"white\",\"zerolinewidth\":2}}},\"title\":{\"font\":{\"color\":\"#4D5663\"}},\"xaxis\":{\"gridcolor\":\"#E1E5ED\",\"showgrid\":true,\"tickfont\":{\"color\":\"#4D5663\"},\"title\":{\"font\":{\"color\":\"#4D5663\"},\"text\":\"\"},\"zerolinecolor\":\"#E1E5ED\"},\"yaxis\":{\"gridcolor\":\"#E1E5ED\",\"showgrid\":true,\"tickfont\":{\"color\":\"#4D5663\"},\"title\":{\"font\":{\"color\":\"#4D5663\"},\"text\":\"\"},\"zerolinecolor\":\"#E1E5ED\"}},                        {\"showLink\": true, \"linkText\": \"Export to plot.ly\", \"plotlyServerURL\": \"https://plot.ly\", \"responsive\": true}                    ).then(function(){\n",
       "                            \n",
       "var gd = document.getElementById('206858c1-b5ae-4004-9ade-e4c6694b1e03');\n",
       "var x = new MutationObserver(function (mutations, observer) {{\n",
       "        var display = window.getComputedStyle(gd).display;\n",
       "        if (!display || display === 'none') {{\n",
       "            console.log([gd, 'removed!']);\n",
       "            Plotly.purge(gd);\n",
       "            observer.disconnect();\n",
       "        }}\n",
       "}});\n",
       "\n",
       "// Listen for the removal of the full notebook cells\n",
       "var notebookContainer = gd.closest('#notebook-container');\n",
       "if (notebookContainer) {{\n",
       "    x.observe(notebookContainer, {childList: true});\n",
       "}}\n",
       "\n",
       "// Listen for the clearing of the current output cell\n",
       "var outputEl = gd.closest('.output');\n",
       "if (outputEl) {{\n",
       "    x.observe(outputEl, {childList: true});\n",
       "}}\n",
       "\n",
       "                        })                };                });            </script>        </div>"
      ]
     },
     "metadata": {},
     "output_type": "display_data"
    }
   ],
   "source": [
    "train['Fare'].iplot(kind='hist',bins=30,color='green')"
   ]
  },
  {
   "cell_type": "markdown",
   "metadata": {},
   "source": [
    "___\n",
    "## Data Cleaning\n",
    "We want to fill in missing age data instead of just dropping the missing age data rows. One way to do this is by filling in the mean age of all the passengers (imputation).\n",
    "However we can be smarter about this and check the average age by passenger class. For example:\n"
   ]
  },
  {
   "cell_type": "code",
   "execution_count": 14,
   "metadata": {},
   "outputs": [
    {
     "data": {
      "text/plain": [
       "<matplotlib.axes._subplots.AxesSubplot at 0x12ea8c8f250>"
      ]
     },
     "execution_count": 14,
     "metadata": {},
     "output_type": "execute_result"
    },
    {
     "data": {
      "image/png": "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\n",
      "text/plain": [
       "<Figure size 864x504 with 1 Axes>"
      ]
     },
     "metadata": {},
     "output_type": "display_data"
    }
   ],
   "source": [
    "plt.figure(figsize=(12, 7))\n",
    "sns.boxplot(x='Pclass',y='Age',data=train,palette='winter')"
   ]
  },
  {
   "cell_type": "markdown",
   "metadata": {},
   "source": [
    "We can see the wealthier passengers in the higher classes tend to be older, which makes sense. We'll use these average age values to impute based on Pclass for Age."
   ]
  },
  {
   "cell_type": "code",
   "execution_count": 15,
   "metadata": {},
   "outputs": [],
   "source": [
    "def impute_age(cols):\n",
    "    Age = cols[0]\n",
    "    Pclass = cols[1]\n",
    "    \n",
    "    if pd.isnull(Age):\n",
    "\n",
    "        if Pclass == 1:\n",
    "            return 37\n",
    "\n",
    "        elif Pclass == 2:\n",
    "            return 29\n",
    "\n",
    "        else:\n",
    "            return 24\n",
    "\n",
    "    else:\n",
    "        return Age"
   ]
  },
  {
   "cell_type": "markdown",
   "metadata": {},
   "source": [
    "Now apply that function!"
   ]
  },
  {
   "cell_type": "code",
   "execution_count": 17,
   "metadata": {},
   "outputs": [],
   "source": [
    "train['Age'] = train[['Age','Pclass']].apply(impute_age,axis=1)"
   ]
  },
  {
   "cell_type": "markdown",
   "metadata": {},
   "source": [
    "Now let's check that heat map again!"
   ]
  },
  {
   "cell_type": "code",
   "execution_count": 89,
   "metadata": {},
   "outputs": [
    {
     "data": {
      "text/plain": [
       "<matplotlib.axes._subplots.AxesSubplot at 0x11c4dae10>"
      ]
     },
     "execution_count": 89,
     "metadata": {},
     "output_type": "execute_result"
    },
    {
     "data": {
      "image/png": "iVBORw0KGgoAAAANSUhEUgAAAV0AAAEsCAYAAABg9mDTAAAABHNCSVQICAgIfAhkiAAAAAlwSFlz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\nkZhp3MhB8QAAAABJRU5ErkJggg==\n",
      "text/plain": [
       "<matplotlib.figure.Figure at 0x11b12c9e8>"
      ]
     },
     "metadata": {},
     "output_type": "display_data"
    }
   ],
   "source": [
    "sns.heatmap(train.isnull(),yticklabels=False,cbar=False,cmap='viridis')"
   ]
  },
  {
   "cell_type": "markdown",
   "metadata": {},
   "source": [
    "Great! Let's go ahead and drop the Cabin column and the row in Embarked that is NaN."
   ]
  },
  {
   "cell_type": "code",
   "execution_count": 90,
   "metadata": {},
   "outputs": [],
   "source": [
    "train.drop('Cabin',axis=1,inplace=True)"
   ]
  },
  {
   "cell_type": "code",
   "execution_count": 91,
   "metadata": {},
   "outputs": [
    {
     "data": {
      "text/html": [
       "<div>\n",
       "<table border=\"1\" class=\"dataframe\">\n",
       "  <thead>\n",
       "    <tr style=\"text-align: right;\">\n",
       "      <th></th>\n",
       "      <th>PassengerId</th>\n",
       "      <th>Survived</th>\n",
       "      <th>Pclass</th>\n",
       "      <th>Name</th>\n",
       "      <th>Sex</th>\n",
       "      <th>Age</th>\n",
       "      <th>SibSp</th>\n",
       "      <th>Parch</th>\n",
       "      <th>Ticket</th>\n",
       "      <th>Fare</th>\n",
       "      <th>Embarked</th>\n",
       "    </tr>\n",
       "  </thead>\n",
       "  <tbody>\n",
       "    <tr>\n",
       "      <th>0</th>\n",
       "      <td>1</td>\n",
       "      <td>0</td>\n",
       "      <td>3</td>\n",
       "      <td>Braund, Mr. Owen Harris</td>\n",
       "      <td>male</td>\n",
       "      <td>22.0</td>\n",
       "      <td>1</td>\n",
       "      <td>0</td>\n",
       "      <td>A/5 21171</td>\n",
       "      <td>7.2500</td>\n",
       "      <td>S</td>\n",
       "    </tr>\n",
       "    <tr>\n",
       "      <th>1</th>\n",
       "      <td>2</td>\n",
       "      <td>1</td>\n",
       "      <td>1</td>\n",
       "      <td>Cumings, Mrs. John Bradley (Florence Briggs Th...</td>\n",
       "      <td>female</td>\n",
       "      <td>38.0</td>\n",
       "      <td>1</td>\n",
       "      <td>0</td>\n",
       "      <td>PC 17599</td>\n",
       "      <td>71.2833</td>\n",
       "      <td>C</td>\n",
       "    </tr>\n",
       "    <tr>\n",
       "      <th>2</th>\n",
       "      <td>3</td>\n",
       "      <td>1</td>\n",
       "      <td>3</td>\n",
       "      <td>Heikkinen, Miss. Laina</td>\n",
       "      <td>female</td>\n",
       "      <td>26.0</td>\n",
       "      <td>0</td>\n",
       "      <td>0</td>\n",
       "      <td>STON/O2. 3101282</td>\n",
       "      <td>7.9250</td>\n",
       "      <td>S</td>\n",
       "    </tr>\n",
       "    <tr>\n",
       "      <th>3</th>\n",
       "      <td>4</td>\n",
       "      <td>1</td>\n",
       "      <td>1</td>\n",
       "      <td>Futrelle, Mrs. Jacques Heath (Lily May Peel)</td>\n",
       "      <td>female</td>\n",
       "      <td>35.0</td>\n",
       "      <td>1</td>\n",
       "      <td>0</td>\n",
       "      <td>113803</td>\n",
       "      <td>53.1000</td>\n",
       "      <td>S</td>\n",
       "    </tr>\n",
       "    <tr>\n",
       "      <th>4</th>\n",
       "      <td>5</td>\n",
       "      <td>0</td>\n",
       "      <td>3</td>\n",
       "      <td>Allen, Mr. William Henry</td>\n",
       "      <td>male</td>\n",
       "      <td>35.0</td>\n",
       "      <td>0</td>\n",
       "      <td>0</td>\n",
       "      <td>373450</td>\n",
       "      <td>8.0500</td>\n",
       "      <td>S</td>\n",
       "    </tr>\n",
       "  </tbody>\n",
       "</table>\n",
       "</div>"
      ],
      "text/plain": [
       "   PassengerId  Survived  Pclass  \\\n",
       "0            1         0       3   \n",
       "1            2         1       1   \n",
       "2            3         1       3   \n",
       "3            4         1       1   \n",
       "4            5         0       3   \n",
       "\n",
       "                                                Name     Sex   Age  SibSp  \\\n",
       "0                            Braund, Mr. Owen Harris    male  22.0      1   \n",
       "1  Cumings, Mrs. John Bradley (Florence Briggs Th...  female  38.0      1   \n",
       "2                             Heikkinen, Miss. Laina  female  26.0      0   \n",
       "3       Futrelle, Mrs. Jacques Heath (Lily May Peel)  female  35.0      1   \n",
       "4                           Allen, Mr. William Henry    male  35.0      0   \n",
       "\n",
       "   Parch            Ticket     Fare Embarked  \n",
       "0      0         A/5 21171   7.2500        S  \n",
       "1      0          PC 17599  71.2833        C  \n",
       "2      0  STON/O2. 3101282   7.9250        S  \n",
       "3      0            113803  53.1000        S  \n",
       "4      0            373450   8.0500        S  "
      ]
     },
     "execution_count": 91,
     "metadata": {},
     "output_type": "execute_result"
    }
   ],
   "source": [
    "train.head()"
   ]
  },
  {
   "cell_type": "code",
   "execution_count": 92,
   "metadata": {},
   "outputs": [],
   "source": [
    "train.dropna(inplace=True)"
   ]
  },
  {
   "cell_type": "markdown",
   "metadata": {},
   "source": [
    "## Converting Categorical Features \n",
    "\n",
    "We'll need to convert categorical features to dummy variables using pandas! Otherwise our machine learning algorithm won't be able to directly take in those features as inputs."
   ]
  },
  {
   "cell_type": "code",
   "execution_count": 93,
   "metadata": {},
   "outputs": [
    {
     "name": "stdout",
     "output_type": "stream",
     "text": [
      "<class 'pandas.core.frame.DataFrame'>\n",
      "Int64Index: 889 entries, 0 to 890\n",
      "Data columns (total 11 columns):\n",
      "PassengerId    889 non-null int64\n",
      "Survived       889 non-null int64\n",
      "Pclass         889 non-null int64\n",
      "Name           889 non-null object\n",
      "Sex            889 non-null object\n",
      "Age            889 non-null float64\n",
      "SibSp          889 non-null int64\n",
      "Parch          889 non-null int64\n",
      "Ticket         889 non-null object\n",
      "Fare           889 non-null float64\n",
      "Embarked       889 non-null object\n",
      "dtypes: float64(2), int64(5), object(4)\n",
      "memory usage: 83.3+ KB\n"
     ]
    }
   ],
   "source": [
    "train.info()"
   ]
  },
  {
   "cell_type": "code",
   "execution_count": 94,
   "metadata": {},
   "outputs": [],
   "source": [
    "sex = pd.get_dummies(train['Sex'],drop_first=True)\n",
    "embark = pd.get_dummies(train['Embarked'],drop_first=True)"
   ]
  },
  {
   "cell_type": "code",
   "execution_count": 18,
   "metadata": {},
   "outputs": [],
   "source": [
    "train.drop(['Sex','Embarked','Name','Ticket'],axis=1,inplace=True)"
   ]
  },
  {
   "cell_type": "code",
   "execution_count": 19,
   "metadata": {},
   "outputs": [
    {
     "ename": "NameError",
     "evalue": "name 'sex' is not defined",
     "output_type": "error",
     "traceback": [
      "\u001b[1;31m---------------------------------------------------------------------------\u001b[0m",
      "\u001b[1;31mNameError\u001b[0m                                 Traceback (most recent call last)",
      "\u001b[1;32m<ipython-input-19-7292efed09fc>\u001b[0m in \u001b[0;36m<module>\u001b[1;34m\u001b[0m\n\u001b[1;32m----> 1\u001b[1;33m \u001b[0mtrain\u001b[0m \u001b[1;33m=\u001b[0m \u001b[0mpd\u001b[0m\u001b[1;33m.\u001b[0m\u001b[0mconcat\u001b[0m\u001b[1;33m(\u001b[0m\u001b[1;33m[\u001b[0m\u001b[0mtrain\u001b[0m\u001b[1;33m,\u001b[0m\u001b[0msex\u001b[0m\u001b[1;33m,\u001b[0m\u001b[0membark\u001b[0m\u001b[1;33m]\u001b[0m\u001b[1;33m,\u001b[0m\u001b[0maxis\u001b[0m\u001b[1;33m=\u001b[0m\u001b[1;36m1\u001b[0m\u001b[1;33m)\u001b[0m\u001b[1;33m\u001b[0m\u001b[1;33m\u001b[0m\u001b[0m\n\u001b[0m",
      "\u001b[1;31mNameError\u001b[0m: name 'sex' is not defined"
     ]
    }
   ],
   "source": [
    "train = pd.concat([train,sex,embark],axis=1)"
   ]
  },
  {
   "cell_type": "code",
   "execution_count": null,
   "metadata": {},
   "outputs": [],
   "source": [
    "train.head()"
   ]
  },
  {
   "cell_type": "markdown",
   "metadata": {},
   "source": [
    "Great! Our data is ready for our model!\n",
    "\n",
    "# Building a Logistic Regression model\n",
    "\n",
    "Let's start by splitting our data into a training set and test set (there is another test.csv file that you can play around with in case you want to use all this data for training).\n",
    "\n",
    "## Train Test Split"
   ]
  },
  {
   "cell_type": "code",
   "execution_count": 98,
   "metadata": {
    "collapsed": true
   },
   "outputs": [],
   "source": [
    "from sklearn.model_selection import train_test_split"
   ]
  },
  {
   "cell_type": "code",
   "execution_count": 100,
   "metadata": {},
   "outputs": [],
   "source": [
    "X_train, X_test, y_train, y_test = train_test_split(train.drop('Survived',axis=1), \n",
    "                                                    train['Survived'], test_size=0.30, \n",
    "                                                    random_state=101)"
   ]
  },
  {
   "cell_type": "markdown",
   "metadata": {},
   "source": [
    "## Training and Predicting"
   ]
  },
  {
   "cell_type": "code",
   "execution_count": 101,
   "metadata": {
    "collapsed": true
   },
   "outputs": [],
   "source": [
    "from sklearn.linear_model import LogisticRegression"
   ]
  },
  {
   "cell_type": "code",
   "execution_count": 102,
   "metadata": {},
   "outputs": [
    {
     "data": {
      "text/plain": [
       "LogisticRegression(C=1.0, class_weight=None, dual=False, fit_intercept=True,\n",
       "          intercept_scaling=1, max_iter=100, multi_class='ovr', n_jobs=1,\n",
       "          penalty='l2', random_state=None, solver='liblinear', tol=0.0001,\n",
       "          verbose=0, warm_start=False)"
      ]
     },
     "execution_count": 102,
     "metadata": {},
     "output_type": "execute_result"
    }
   ],
   "source": [
    "logmodel = LogisticRegression()\n",
    "logmodel.fit(X_train,y_train)"
   ]
  },
  {
   "cell_type": "code",
   "execution_count": 103,
   "metadata": {
    "collapsed": true
   },
   "outputs": [],
   "source": [
    "predictions = logmodel.predict(X_test)"
   ]
  },
  {
   "cell_type": "markdown",
   "metadata": {},
   "source": [
    "Let's move on to evaluate our model!"
   ]
  },
  {
   "cell_type": "markdown",
   "metadata": {},
   "source": [
    "## Evaluation"
   ]
  },
  {
   "cell_type": "markdown",
   "metadata": {},
   "source": [
    "We can check precision,recall,f1-score using classification report!"
   ]
  },
  {
   "cell_type": "code",
   "execution_count": 104,
   "metadata": {
    "collapsed": true
   },
   "outputs": [],
   "source": [
    "from sklearn.metrics import classification_report"
   ]
  },
  {
   "cell_type": "code",
   "execution_count": 105,
   "metadata": {},
   "outputs": [
    {
     "name": "stdout",
     "output_type": "stream",
     "text": [
      "             precision    recall  f1-score   support\n",
      "\n",
      "          0       0.81      0.93      0.86       163\n",
      "          1       0.85      0.65      0.74       104\n",
      "\n",
      "avg / total       0.82      0.82      0.81       267\n",
      "\n"
     ]
    }
   ],
   "source": [
    "print(classification_report(y_test,predictions))"
   ]
  },
  {
   "cell_type": "markdown",
   "metadata": {},
   "source": [
  ,
    "\n",
  
   ]
  }
 ],
 "metadata": {
  "kernelspec": {
   "display_name": "Python 3",
   "language": "python",
   "name": "python3"
  },
  "language_info": {
   "codemirror_mode": {
    "name": "ipython",
    "version": 3
   },
   "file_extension": ".py",
   "mimetype": "text/x-python",
   "name": "python",
   "nbconvert_exporter": "python",
   "pygments_lexer": "ipython3",
   "version": "3.8.8"
  }
 },
 "nbformat": 4,
 "nbformat_minor": 1
}
